{
 "cells": [
  {
   "cell_type": "code",
   "execution_count": 1,
   "metadata": {
    "collapsed": false
   },
   "outputs": [],
   "source": [
    "import os\n",
    "import csv\n",
    "import numpy as np\n",
    "import math"
   ]
  },
  {
   "cell_type": "code",
   "execution_count": 2,
   "metadata": {
    "collapsed": false
   },
   "outputs": [],
   "source": [
    "lines = csv.reader(open(\"Webgl_BookCrossing.csv\",\"rb\"))"
   ]
  },
  {
   "cell_type": "code",
   "execution_count": 3,
   "metadata": {
    "collapsed": false
   },
   "outputs": [],
   "source": [
    "book = [];\n",
    "for lat,lon,freq in lines:\n",
    "    book.append([lat,lon,freq])"
   ]
  },
  {
   "cell_type": "code",
   "execution_count": 4,
   "metadata": {
    "collapsed": false
   },
   "outputs": [
    {
     "name": "stdout",
     "output_type": "stream",
     "text": [
      "['-76.1151573', '40.7211811', '16']\n"
     ]
    }
   ],
   "source": [
    "print book[12479]"
   ]
  },
  {
   "cell_type": "code",
   "execution_count": 5,
   "metadata": {
    "collapsed": false
   },
   "outputs": [],
   "source": [
    "book = book[1:-1]\n",
    "book_np = np.array(book)\n",
    "book_temp = book_np[:,2]\n",
    "freq = [float(i) for i in book_temp]"
   ]
  },
  {
   "cell_type": "code",
   "execution_count": 6,
   "metadata": {
    "collapsed": false
   },
   "outputs": [
    {
     "name": "stdout",
     "output_type": "stream",
     "text": [
      "1092.0\n"
     ]
    }
   ],
   "source": [
    "Maxfreq = max(freq)\n",
    "print Maxfreq"
   ]
  },
  {
   "cell_type": "code",
   "execution_count": 7,
   "metadata": {
    "collapsed": true
   },
   "outputs": [],
   "source": [
    "def sigmoid(x):\n",
    "  return 1 / (1 + math.exp(-x))"
   ]
  },
  {
   "cell_type": "code",
   "execution_count": 19,
   "metadata": {
    "collapsed": false
   },
   "outputs": [
    {
     "name": "stdout",
     "output_type": "stream",
     "text": [
      "12480 12480 12480\n"
     ]
    }
   ],
   "source": [
    "logistic = 1.0 / (0.5 + np.exp(-np.array(freq)))\n",
    "logistic_freq = [float(i) for i in logistic]\n",
    "print len(logistic_freq),len(book),len(freq)"
   ]
  },
  {
   "cell_type": "code",
   "execution_count": 20,
   "metadata": {
    "collapsed": false
   },
   "outputs": [
    {
     "name": "stdout",
     "output_type": "stream",
     "text": [
      "1.15223376953\n",
      "2.0\n"
     ]
    }
   ],
   "source": [
    "print min(logistic_freq)\n",
    "print max(logistic_freq)"
   ]
  },
  {
   "cell_type": "code",
   "execution_count": 68,
   "metadata": {
    "collapsed": false
   },
   "outputs": [],
   "source": [
    "def piecewise_linearity(x):\n",
    "    if x < 10.0:\n",
    "        return x/10.0\n",
    "    elif ((x >= 10.0) & (x < 100.0)):\n",
    "        return (1/90.0)*x + 8.0/9.0\n",
    "    elif x >= 100.0:\n",
    "        return (1.0/1000.0)*x + 1.90"
   ]
  },
  {
   "cell_type": "code",
   "execution_count": 69,
   "metadata": {
    "collapsed": false
   },
   "outputs": [
    {
     "data": {
      "text/plain": [
       "3.0"
      ]
     },
     "execution_count": 69,
     "metadata": {},
     "output_type": "execute_result"
    }
   ],
   "source": [
    "piecewise_linearity(1100)"
   ]
  },
  {
   "cell_type": "code",
   "execution_count": 70,
   "metadata": {
    "collapsed": false
   },
   "outputs": [
    {
     "data": {
      "text/plain": [
       "12480"
      ]
     },
     "execution_count": 70,
     "metadata": {},
     "output_type": "execute_result"
    }
   ],
   "source": [
    "linear_map = [piecewise_linearity(i) for i in freq]\n",
    "len(linear_map)"
   ]
  },
  {
   "cell_type": "code",
   "execution_count": 71,
   "metadata": {
    "collapsed": false
   },
   "outputs": [],
   "source": [
    "f = open('BookCrossingData.json','w')\n",
    "f.write('[') # python will convert \\n to os.linesep\n",
    "categories = ['book-crossing'];\n",
    "for i in xrange(len(categories)):\n",
    "    f.write('[\"');f.write(categories[i]);f.write('\",[')\n",
    "    for j in xrange(len(book)):\n",
    "        f.write(book[j][0])\n",
    "        f.write(',')\n",
    "        f.write(book[j][1])\n",
    "        f.write(',')\n",
    "        f.write(str(linear_map[j]/5))\n",
    "        if j != len(book)-1:\n",
    "            f.write(',')\n",
    "    f.write(']]')\n",
    "    if i == len(categories):\n",
    "        f.write(',')\n",
    "\n",
    "f.write(']')\n",
    "f.close() "
   ]
  },
  {
   "cell_type": "raw",
   "metadata": {},
   "source": [
    "import csv\n",
    "lines = csv.reader(open(\"poverty.csv\", \"rb\"))\n",
    "mpis = []  # Multidimensional Poverty Index\n",
    "thousands = []  # People, in thousands, in a poverty situation\n",
    "deprivations = []  # Intensity of Deprivation\n",
    "for lat, lon, mpi, thousand, deprivation in lines:\n",
    "    mpis += (lat, lon, mpi)\n",
    "    thousands += (lat, lon, thousand)\n",
    "    deprivations += (lat, lon, deprivation)\n",
    "print \"\"\"\n",
    "[\n",
    "[\"Multidimensional Poverty Index\", [%s]],\n",
    "[\"People affected (in thousands)\", [%s]],\n",
    "[\"Intensity of Deprivation\", [%s]]\n",
    "\"\"\" % (\",\".join(mpis),\n",
    "       \",\".join(thousands),\n",
    "       \",\".join(deprivations))\n",
    "- See more at: http://versae.blogs.cultureplex.ca/2011/11/07/creating-a-globe-of-data/#comments"
   ]
  }
 ],
 "metadata": {
  "kernelspec": {
   "display_name": "Python 2",
   "language": "python",
   "name": "python2"
  },
  "language_info": {
   "codemirror_mode": {
    "name": "ipython",
    "version": 2
   },
   "file_extension": ".py",
   "mimetype": "text/x-python",
   "name": "python",
   "nbconvert_exporter": "python",
   "pygments_lexer": "ipython2",
   "version": "2.7.11"
  }
 },
 "nbformat": 4,
 "nbformat_minor": 0
}
